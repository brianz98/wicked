{
 "cells": [
  {
   "cell_type": "markdown",
   "id": "81579bfa",
   "metadata": {},
   "source": [
    "# CCSD theory for a closed-shell reference\n",
    "\n",
    "In this notebook we will use wicked to generate and implement equations for the CCSD method.\n",
    "To simplify this notebook some of the utility functions are imported from the file `examples_helpers.py`.\n",
    "In this example, we run a CCSD computation on the H<sub>6</sub> molecule, reading all the relevant information from the file `sr-h2o-cc-pvdz-spinorbital.npy`."
   ]
  },
  {
   "cell_type": "code",
   "execution_count": 1,
   "id": "caa5d04c",
   "metadata": {},
   "outputs": [],
   "source": [
    "import time\n",
    "import wicked as w\n",
    "import numpy as np\n",
    "from examples_helpers import *\n",
    "import copy"
   ]
  },
  {
   "cell_type": "markdown",
   "id": "1601889d",
   "metadata": {},
   "source": [
    "## Read calculation information (integrals, number of orbitals)\n",
    "\n",
    "We start by reading information about the reference state, integrals, and denominators from the file `sr-h2o-cc-pvdz-spinorbital.npy`. The variable `H` is a dictionary that holds the blocks of the Hamiltonian **normal-ordered** with respect to the Hartree–Fock determinant. `invD` similarly is a dictionary that stores the denominators $(\\epsilon_i + \\epsilon_j + \\ldots - \\epsilon_a - \\epsilon_b - \\ldots)^{-1}$."
   ]
  },
  {
   "cell_type": "code",
   "execution_count": 2,
   "id": "3f8328a7",
   "metadata": {},
   "outputs": [],
   "source": [
    "molecule = \"sr-h2o-sto-3g-spinorbital\"\n",
    "\n",
    "with open(f\"{molecule}.npy\", \"rb\") as f:\n",
    "    Eref = np.load(f)\n",
    "    Ecorr_ref = np.load(f)\n",
    "    nocc, nvir = np.load(f)\n",
    "    H = np.load(f, allow_pickle=True).item()\n",
    "\n",
    "invD = compute_inverse_denominators(H, nocc, nvir, 2)"
   ]
  },
  {
   "cell_type": "markdown",
   "id": "41e2d3f1",
   "metadata": {},
   "source": [
    "## Compute the MP2 energy\n",
    "\n",
    "To verify that the Hamiltonian is read correctly, we compute the MP2 correlation energy"
   ]
  },
  {
   "cell_type": "code",
   "execution_count": 3,
   "id": "afb93fee",
   "metadata": {},
   "outputs": [
    {
     "name": "stdout",
     "output_type": "stream",
     "text": [
      "MP2 correlation energy: -0.049149644668 Eh\n"
     ]
    }
   ],
   "source": [
    "# Compute the MP2 correlation energy\n",
    "Emp2 = 0.0\n",
    "for i in range(nocc):\n",
    "    for j in range(nocc):\n",
    "        for a in range(nvir):\n",
    "            for b in range(nvir):\n",
    "                Emp2 += 0.25 * H[\"oovv\"][i][j][a][b] ** 2 * invD[\"oovv\"][i][j][a][b]\n",
    "\n",
    "print(f\"MP2 correlation energy: {Emp2:.12f} Eh\")"
   ]
  },
  {
   "cell_type": "markdown",
   "id": "5b57b4a2",
   "metadata": {},
   "source": [
    "## Define orbital spaces and the Hamiltonian and cluster operators\n",
    "\n",
    "Here we define the cluster operator (`Top`) and the Hamiltonian (`Hop`) that will be used to derive the CCSD equations. We also define the similarity-transformed Hamiltonian $\\bar{H}$ truncated at the four-nested commutator:\n",
    "\n",
    "\\begin{equation}\n",
    "\\bar{H} = \\hat{H} + [\\hat{H},\\hat{T}] + \\frac{1}{2} [[\\hat{H},\\hat{T}],\\hat{T}]\n",
    "+ \\frac{1}{6} [[[\\hat{H},\\hat{T}],\\hat{T}],\\hat{T}]\n",
    "+ \\frac{1}{24} [[[[\\hat{H},\\hat{T}],\\hat{T}],\\hat{T}],\\hat{T}] + \\ldots\n",
    "\\end{equation}"
   ]
  },
  {
   "cell_type": "code",
   "execution_count": 4,
   "id": "67ccf97e",
   "metadata": {},
   "outputs": [],
   "source": [
    "w.reset_space()\n",
    "w.add_space(\"o\", \"fermion\", \"occupied\", [\"i\", \"j\", \"k\", \"l\", \"m\", \"n\"])\n",
    "w.add_space(\"v\", \"fermion\", \"unoccupied\", [\"a\", \"b\", \"c\", \"d\", \"e\", \"f\"])\n",
    "\n",
    "Top = w.op(\"T\", [\"v+ o\", \"v+ v+ o o\"], unique=False)\n",
    "Hop = w.utils.gen_op(\"H\", 1, \"ov\", \"ov\") + w.utils.gen_op(\"H\", 2, \"ov\", \"ov\")\n",
    "# the similarity-transformed Hamiltonian truncated to the four-nested commutator term\n",
    "Hbar = w.bch_series(Hop, Top, 4)"
   ]
  },
  {
   "cell_type": "markdown",
   "id": "abf2dc84",
   "metadata": {},
   "source": [
    "In the following lines, we apply Wick's theorem to simplify the similarity-transformed Hamiltonian $\\bar{H}$ computing all contributions ranging from operator rank 0 to 4 (double substitutions).\n",
    "Then we convert all the terms into many-body equations accumulated into the residual `R`."
   ]
  },
  {
   "cell_type": "code",
   "execution_count": 5,
   "id": "9c56be6b",
   "metadata": {},
   "outputs": [],
   "source": [
    "wt = w.WickTheorem()\n",
    "expr = wt.contract(w.rational(1), Hbar, 0, 4)\n",
    "mbeq = expr.to_manybody_equation(\"R\")"
   ]
  },
  {
   "cell_type": "markdown",
   "id": "7c1a291b",
   "metadata": {},
   "source": [
    "Here we finally generate the CCSD equations. We use the utility function `generate_equation` to extract the equations corresponding to a given number of creation and annihilation operators and generated Python functions that we then define with the command `exec`"
   ]
  },
  {
   "cell_type": "code",
   "execution_count": 6,
   "id": "9e117a39",
   "metadata": {},
   "outputs": [
    {
     "name": "stdout",
     "output_type": "stream",
     "text": [
      "def evaluate_residual_0_0(H,T):\n",
      "    # contributions to the residual\n",
      "    R = 0.0\n",
      "    R += 1.000000000 * np.einsum(\"ai,ia->\",H[\"vo\"],T[\"ov\"],optimize=\"optimal\")\n",
      "    R += 0.250000000 * np.einsum(\"abij,ijab->\",H[\"vvoo\"],T[\"oovv\"],optimize=\"optimal\")\n",
      "    R += 0.500000000 * np.einsum(\"abij,jb,ia->\",H[\"vvoo\"],T[\"ov\"],T[\"ov\"],optimize=\"optimal\")\n",
      "    return R\n"
     ]
    }
   ],
   "source": [
    "energy_eq = generate_equation(mbeq, 0, 0)\n",
    "t1_eq = generate_equation(mbeq, 1, 1)\n",
    "t2_eq = generate_equation(mbeq, 2, 2)\n",
    "\n",
    "exec(energy_eq)\n",
    "exec(t1_eq)\n",
    "exec(t2_eq)\n",
    "\n",
    "# show what do these functions look like\n",
    "print(energy_eq)"
   ]
  },
  {
   "cell_type": "markdown",
   "id": "e3b8cb04",
   "metadata": {},
   "source": [
    "## CCSD algorithm\n",
    "\n",
    "Here we code a simple loop in which we evaluate the energy and residuals of the CCSD equations and update the amplitudes"
   ]
  },
  {
   "cell_type": "code",
   "execution_count": 7,
   "id": "b1183237",
   "metadata": {},
   "outputs": [
    {
     "name": "stdout",
     "output_type": "stream",
     "text": [
      "-----------------------------------------------------------\n",
      "Iter.     Energy [Eh]    Corr. energy [Eh]       |R|       \n",
      "-----------------------------------------------------------\n",
      "  0    -74.942079898873    +0.000000000000    6.792487e-01\n",
      "  1    -74.991229543542    -0.049149644668    2.043067e-01\n",
      "  2    -75.004838116006    -0.062758217133    8.209712e-02\n",
      "  3    -75.009476493786    -0.067396594913    3.663817e-02\n",
      "  4    -75.011304448168    -0.069224549294    1.718501e-02\n",
      "  5    -75.012087669607    -0.070007770733    8.404825e-03\n",
      "  6    -75.012439954105    -0.070360055231    4.270144e-03\n",
      "  7    -75.012603732501    -0.070523833627    2.239147e-03\n",
      "  8    -75.012681944941    -0.070602046068    1.202385e-03\n",
      "  9    -75.012720205373    -0.070640306500    6.564612e-04\n",
      " 10    -75.012739341188    -0.070659442314    3.623852e-04\n",
      " 11    -75.012749106792    -0.070669207918    2.014838e-04\n",
      " 12    -75.012754180417    -0.070674281544    1.125382e-04\n",
      " 13    -75.012756857366    -0.070676958492    6.304187e-05\n",
      " 14    -75.012758288231    -0.070678389357    3.538082e-05\n",
      " 15    -75.012759061260    -0.070679162386    1.988034e-05\n",
      " 16    -75.012759482512    -0.070679583638    1.117916e-05\n",
      " 17    -75.012759713653    -0.070679814779    6.289320e-06\n",
      " 18    -75.012759841170    -0.070679942296    3.539399e-06\n",
      " 19    -75.012759911819    -0.070680012945    1.992214e-06\n",
      " 20    -75.012759951091    -0.070680052217    1.121476e-06\n",
      " 21    -75.012759972977    -0.070680074104    6.313504e-07\n",
      " 22    -75.012759985199    -0.070680086325    3.554374e-07\n",
      " 23    -75.012759992034    -0.070680093161    2.001056e-07\n",
      " 24    -75.012759995862    -0.070680096988    1.126557e-07\n",
      " 25    -75.012759998007    -0.070680099133    6.342226e-08\n",
      " 26    -75.012759999210    -0.070680100336    3.570446e-08\n",
      " 27    -75.012759999885    -0.070680101012    2.009993e-08\n",
      " 28    -75.012760000264    -0.070680101391    1.131507e-08\n",
      " 29    -75.012760000477    -0.070680101604    6.369580e-09\n",
      "-----------------------------------------------------------\n",
      "CCSD total energy                   -75.012760000477 [Eh]\n",
      "CCSD correlation energy             -0.070680101604 [Eh]\n",
      "Reference CCSD correlation energy   -0.070680096867 [Eh]\n",
      "Error                               -4.736237874114e-09 [Eh]\n",
      "Timing                              0.1200 [s]\n"
     ]
    }
   ],
   "source": [
    "T = {\"ov\": np.zeros((nocc, nvir)), \"oovv\": np.zeros((nocc, nocc, nvir, nvir))}\n",
    "\n",
    "header = \"Iter.     Energy [Eh]    Corr. energy [Eh]       |R|       \"\n",
    "print(\"-\" * len(header))\n",
    "print(header)\n",
    "print(\"-\" * len(header))\n",
    "\n",
    "start = time.perf_counter()\n",
    "\n",
    "maxiter = 50\n",
    "\n",
    "for i in range(maxiter):\n",
    "    # 1. compute energy and residuals\n",
    "    R = {}\n",
    "    Ecorr_w = evaluate_residual_0_0(H, T)\n",
    "    Etot_w = Eref + Ecorr_w\n",
    "    R[\"ov\"] = evaluate_residual_1_1(H, T)\n",
    "    Roovv = evaluate_residual_2_2(H, T)\n",
    "    R[\"oovv\"] = antisymmetrize_residual_2_2(Roovv, nocc, nvir)\n",
    "\n",
    "    # 2. amplitude update\n",
    "    update_cc_amplitudes(T, R, invD, 2)\n",
    "\n",
    "    # 3. check for convergence\n",
    "    norm_R = np.sqrt(np.linalg.norm(R[\"ov\"]) ** 2 + np.linalg.norm(R[\"oovv\"]) ** 2)\n",
    "    print(f\"{i:3d}    {Etot_w:+.12f}    {Ecorr_w:+.12f}    {norm_R:e}\")\n",
    "    if norm_R < 1.0e-8:\n",
    "        break\n",
    "\n",
    "end = time.perf_counter()\n",
    "t = end - start\n",
    "\n",
    "print(\"-\" * len(header))\n",
    "print(f\"CCSD total energy                   {Etot_w:+.12f} [Eh]\")\n",
    "print(f\"CCSD correlation energy             {Ecorr_w:+.12f} [Eh]\")\n",
    "print(f\"Reference CCSD correlation energy   {Ecorr_ref:+.12f} [Eh]\")\n",
    "print(f\"Error                               {Ecorr_w - Ecorr_ref:+.12e} [Eh]\")\n",
    "print(f\"Timing                              {t:.4f} [s]\")\n",
    "assert np.isclose(Ecorr_w, Ecorr_ref)"
   ]
  },
  {
   "cell_type": "markdown",
   "metadata": {},
   "source": [
    "### Build $\\bar{H}$"
   ]
  },
  {
   "cell_type": "code",
   "execution_count": 8,
   "metadata": {},
   "outputs": [],
   "source": [
    "for key in mbeq.keys():\n",
    "    if key=='|': continue\n",
    "    func = generate_tensor_block(mbeq[key], key)\n",
    "    exec(func)"
   ]
  },
  {
   "cell_type": "code",
   "execution_count": 9,
   "metadata": {},
   "outputs": [],
   "source": [
    "Hbar = {}\n",
    "Hbar_oooo = evaluate_residual_oooo(H,T)\n",
    "Hbar['oooo'] = antisymmetrize_residual_2_2_general(Hbar_oooo, 2, 2, 2, 2)\n",
    "Hbar_ooov = evaluate_residual_ooov(H,T)\n",
    "Hbar['ooov'] = antisymmetrize_residual_2_2_general(Hbar_ooov, 2, 2, 2, 1)\n",
    "Hbar_oovv = evaluate_residual_oovv(H,T)\n",
    "Hbar['oovv'] = antisymmetrize_residual_2_2_general(Hbar_oovv, 2, 2, 2, 2)\n",
    "Hbar_ovoo = evaluate_residual_ovoo(H,T)\n",
    "Hbar['ovoo'] = antisymmetrize_residual_2_2_general(Hbar_ovoo, 2, 2, 1, 2)\n",
    "Hbar_ovov = evaluate_residual_ovov(H,T)\n",
    "Hbar['ovov'] = antisymmetrize_residual_2_2_general(Hbar_ovov, 2, 2, 1, 1)\n",
    "Hbar_ovvv = evaluate_residual_ovvv(H,T)\n",
    "Hbar['ovvv'] = antisymmetrize_residual_2_2_general(Hbar_ovvv, 2, 2, 1, 2)\n",
    "Hbar['oo'] = evaluate_residual_oo(H,T)\n",
    "Hbar['ov'] = evaluate_residual_ov(H,T)\n",
    "Hbar_vvoo = evaluate_residual_vvoo(H,T)\n",
    "Hbar['vvoo'] = antisymmetrize_residual_2_2_general(Hbar_vvoo, 2, 2, 2, 2)\n",
    "Hbar_vvov = evaluate_residual_vvov(H,T)\n",
    "Hbar['vvov'] = antisymmetrize_residual_2_2_general(Hbar_vvov, 2, 2, 2, 1)\n",
    "Hbar_vvvv = evaluate_residual_vvvv(H,T)\n",
    "Hbar['vvvv'] = antisymmetrize_residual_2_2_general(Hbar_vvvv, 2, 2, 2, 2)\n",
    "Hbar['vo'] = evaluate_residual_vo(H,T)\n",
    "Hbar['vv'] = evaluate_residual_vv(H,T)"
   ]
  },
  {
   "cell_type": "markdown",
   "metadata": {},
   "source": [
    "### Generate the 'Slater rules' for EOM"
   ]
  },
  {
   "cell_type": "code",
   "execution_count": 16,
   "metadata": {},
   "outputs": [],
   "source": [
    "sd = ['v+ o','v+ v+ o o']\n",
    "Hbar_op = Hop\n",
    "THT = w.op('bra',sd).adjoint() @ Hbar_op @ w.op('c',sd)\n",
    "expr = wt.contract(THT, 0, 0)\n",
    "mbeq = expr.to_manybody_equation('sigma')"
   ]
  },
  {
   "cell_type": "code",
   "execution_count": 11,
   "metadata": {},
   "outputs": [
    {
     "name": "stdout",
     "output_type": "stream",
     "text": [
      "H += -1.000000000 * np.einsum(\"ji,aj,ia->\",H[\"oo\"],bra[\"vo\"],sigma[\"ov\"],optimize=\"optimal\")\n",
      "H += -0.500000000 * np.einsum(\"ji,abjk,ikab->\",H[\"oo\"],bra[\"vvoo\"],sigma[\"oovv\"],optimize=\"optimal\")\n",
      "H += 1.000000000 * np.einsum(\"ai,bj,ijab->\",H[\"vo\"],bra[\"vo\"],sigma[\"oovv\"],optimize=\"optimal\")\n",
      "H += 0.125000000 * np.einsum(\"klij,abkl,ijab->\",H[\"oooo\"],bra[\"vvoo\"],sigma[\"oovv\"],optimize=\"optimal\")\n",
      "H += 0.500000000 * np.einsum(\"kaij,bk,ijab->\",H[\"ovoo\"],bra[\"vo\"],sigma[\"oovv\"],optimize=\"optimal\")\n",
      "H += 0.500000000 * np.einsum(\"jkia,abjk,ib->\",H[\"ooov\"],bra[\"vvoo\"],sigma[\"ov\"],optimize=\"optimal\")\n",
      "H += -1.000000000 * np.einsum(\"jbia,aj,ib->\",H[\"ovov\"],bra[\"vo\"],sigma[\"ov\"],optimize=\"optimal\")\n",
      "H += -1.000000000 * np.einsum(\"jbia,acjk,ikbc->\",H[\"ovov\"],bra[\"vvoo\"],sigma[\"oovv\"],optimize=\"optimal\")\n",
      "H += 0.500000000 * np.einsum(\"bcia,aj,ijbc->\",H[\"vvov\"],bra[\"vo\"],sigma[\"oovv\"],optimize=\"optimal\")\n",
      "H += 1.000000000 * np.einsum(\"ia,abij,jb->\",H[\"ov\"],bra[\"vvoo\"],sigma[\"ov\"],optimize=\"optimal\")\n",
      "H += 1.000000000 * np.einsum(\"ba,ai,ib->\",H[\"vv\"],bra[\"vo\"],sigma[\"ov\"],optimize=\"optimal\")\n",
      "H += 0.500000000 * np.einsum(\"ba,acij,ijbc->\",H[\"vv\"],bra[\"vvoo\"],sigma[\"oovv\"],optimize=\"optimal\")\n",
      "H += 0.500000000 * np.einsum(\"icab,abij,jc->\",H[\"ovvv\"],bra[\"vvoo\"],sigma[\"ov\"],optimize=\"optimal\")\n",
      "H += 0.125000000 * np.einsum(\"cdab,abij,ijcd->\",H[\"vvvv\"],bra[\"vvoo\"],sigma[\"oovv\"],optimize=\"optimal\")\n"
     ]
    }
   ],
   "source": [
    "for eq in mbeq['|']:\n",
    "    print(eq.compile('einsum'))"
   ]
  },
  {
   "cell_type": "code",
   "execution_count": 12,
   "metadata": {},
   "outputs": [],
   "source": [
    "sigma = {}\n",
    "sigma['s'] = np.zeros((nocc, nvir))\n",
    "sigma['d'] = np.zeros((nocc, nocc, nvir, nvir))\n",
    "sigma['s'][-1,-1] = 1"
   ]
  },
  {
   "cell_type": "code",
   "execution_count": 17,
   "metadata": {},
   "outputs": [
    {
     "name": "stdout",
     "output_type": "stream",
     "text": [
      "sigma[\"vo\"] += -1.00000000 * np.einsum('ij,ja->ai', H[\"oo\"],c[\"ov\"],optimize='optimal')\n",
      "sigma[\"vvoo\"] += -0.50000000 * np.einsum('ij,jkab->abik', H[\"oo\"],c[\"oovv\"],optimize='optimal')\n",
      "sigma[\"vo\"] += +1.00000000 * np.einsum('ai,ijab->bj', H[\"vo\"],c[\"oovv\"],optimize='optimal')\n",
      "sigma[\"vvoo\"] += +0.12500000 * np.einsum('ijkl,klab->abij', H[\"oooo\"],c[\"oovv\"],optimize='optimal')\n",
      "sigma[\"vo\"] += +0.50000000 * np.einsum('iajk,jkab->bi', H[\"ovoo\"],c[\"oovv\"],optimize='optimal')\n",
      "sigma[\"vvoo\"] += +0.50000000 * np.einsum('ijka,kb->abij', H[\"ooov\"],c[\"ov\"],optimize='optimal')\n",
      "sigma[\"vo\"] += -1.00000000 * np.einsum('iajb,ja->bi', H[\"ovov\"],c[\"ov\"],optimize='optimal')\n",
      "sigma[\"vvoo\"] += -1.00000000 * np.einsum('iajb,jkac->bcik', H[\"ovov\"],c[\"oovv\"],optimize='optimal')\n",
      "sigma[\"vo\"] += +0.50000000 * np.einsum('abic,ijab->cj', H[\"vvov\"],c[\"oovv\"],optimize='optimal')\n",
      "sigma[\"vvoo\"] += +1.00000000 * np.einsum('ia,jb->abij', H[\"ov\"],c[\"ov\"],optimize='optimal')\n",
      "sigma[\"vo\"] += +1.00000000 * np.einsum('ab,ia->bi', H[\"vv\"],c[\"ov\"],optimize='optimal')\n",
      "sigma[\"vvoo\"] += +0.50000000 * np.einsum('ab,ijac->bcij', H[\"vv\"],c[\"oovv\"],optimize='optimal')\n",
      "sigma[\"vvoo\"] += +0.50000000 * np.einsum('iabc,ja->bcij', H[\"ovvv\"],c[\"ov\"],optimize='optimal')\n",
      "sigma[\"vvoo\"] += +0.12500000 * np.einsum('abcd,ijab->cdij', H[\"vvvv\"],c[\"oovv\"],optimize='optimal')\n"
     ]
    }
   ],
   "source": [
    "for eq in mbeq['|']:\n",
    "    print(w.compile_sigma_vector(eq))"
   ]
  },
  {
   "cell_type": "markdown",
   "metadata": {},
   "source": [
    "### (Optional) Integral generation\n",
    "For completeness, we document here how `sr-h2o-cc-pvdz-spinorbital.npy` was generated. You will need to install PySCF to run the following cell. Due to the size, we do not provide the cc-pVTZ integrals in the repository, but you can generate it with the cell below and see the difference to the spin-integrated code in the other notebook."
   ]
  },
  {
   "cell_type": "code",
   "execution_count": 67,
   "metadata": {},
   "outputs": [
    {
     "name": "stdout",
     "output_type": "stream",
     "text": [
      "converged SCF energy = -74.9420798988735\n",
      "E(CCSD) = -75.01275999574094  E_corr = -0.07068009686744721\n",
      "E(MP2) = -74.9912295435419  E_corr = -0.0491496446683854\n",
      "E(SCS-MP2) = -74.9983674136603  E_corr = -0.0562875147868231\n"
     ]
    }
   ],
   "source": [
    "import pyscf, pyscf.cc, pyscf.mp\n",
    "\n",
    "mol = pyscf.gto.M(atom=\"\"\"\n",
    "O \n",
    "H 1 1.1\n",
    "H 1 1.1 2 104\n",
    "\"\"\", basis='sto-3g')\n",
    "\n",
    "mf = pyscf.scf.RHF(mol)\n",
    "_ = mf.kernel()\n",
    "cc = pyscf.cc.CCSD(mf)\n",
    "_ = cc.kernel()\n",
    "mp = pyscf.mp.MP2(mf)\n",
    "_ = mp.kernel()\n",
    "\n",
    "nocc = mol.nelectron\n",
    "nvir = (mol.nao*2 - nocc)\n",
    "\n",
    "eri = pyscf.ao2mo.full(mol.intor('int2e'), mf.mo_coeff)\n",
    "eri = eri.swapaxes(1, 2)\n",
    "\n",
    "blocks = get_index_blocks(energy_eq+t1_eq+t2_eq)\n",
    "\n",
    "V = np.zeros((mol.nao*2, mol.nao*2, mol.nao*2, mol.nao*2))\n",
    "V[::2,::2,::2,::2] = V[1::2,1::2,1::2,1::2] = eri - eri.swapaxes(2,3) # <aa||aa> and <bb||bb>\n",
    "V[::2,1::2,::2,1::2] = V[1::2,::2,1::2,::2] = eri # <ab||ab> = <ba||ba> = <ab|ab>\n",
    "V[::2,1::2,1::2,::2] = V[1::2,::2,::2,1::2] = -eri.swapaxes(2,3) # <ab||ba> = <ba||ab> = -<ab|ab>\n",
    "F_spatorb = np.diag(mf.mo_energy)\n",
    "F = np.zeros((mol.nao*2, mol.nao*2))\n",
    "F[::2,::2] = F[1::2,1::2] = F_spatorb\n",
    "sl = {'o': slice(0, nocc), 'v': slice(nocc, nocc+nvir)}\n",
    "H = {}\n",
    "for block in blocks:\n",
    "    if len(block) == 2:\n",
    "        H[block] = F[sl[block[0]], sl[block[1]]]\n",
    "    else:\n",
    "        H[block] = V[sl[block[0]], sl[block[1]], sl[block[2]], sl[block[3]]]\n",
    "\n",
    "with open('sr-h2o-sto-3g-spinorbital.npy', 'wb') as f:\n",
    "    np.save(f, mf.e_tot)\n",
    "    np.save(f, cc.e_corr)\n",
    "    np.save(f, (nocc,nvir))\n",
    "    np.save(f, H, allow_pickle=True)"
   ]
  },
  {
   "cell_type": "code",
   "execution_count": null,
   "metadata": {},
   "outputs": [],
   "source": [
    "import logging\n",
    "import warnings\n",
    "\n",
    "import numpy as np\n",
    "import numpy.linalg\n",
    "import scipy\n",
    "import scipy.linalg\n",
    "import scipy.sparse\n",
    "import scipy.sparse.linalg\n",
    "\n",
    "\n",
    "class Davidson(object):\n",
    "    \"\"\"Davidson-Liu algorithm to get the n states with smallest eigenvalues.\"\"\"\n",
    "\n",
    "    def __init__(self, matrix, max_subspace=100, max_iterations=300, eps=1e-6):\n",
    "        self.matrix = matrix\n",
    "        self.diagonal = matrix.diagonal()\n",
    "        self.max_subspace = max_subspace\n",
    "        self.max_iterations = max_iterations\n",
    "        self.eps = eps\n",
    "\n",
    "    def kernal(self, n_lowest=1, initial_guess=None):\n",
    "        # Checks for number of states desired, should be in the range of\n",
    "        # [0, max_subspace).\n",
    "        if n_lowest <= 0 or n_lowest >= self.max_subspace:\n",
    "            raise ValueError(\n",
    "                'n_lowest {} is supposed to be in [1, {}).'.format(\n",
    "                    n_lowest, self.max_subspace\n",
    "                )\n",
    "            )\n",
    "\n",
    "        # Checks for the initial guess.\n",
    "        if initial_guess is None:\n",
    "            initial_guess = np.zeros((len(self.diagonal), n_lowest))\n",
    "            np.fill_diagonal(initial_guess, 1)\n",
    "\n",
    "        sucess = False\n",
    "        niter = 0\n",
    "        guess_v = initial_guess\n",
    "\n",
    "        while niter < self.max_iterations and not sucess:\n",
    "            guess_mv = np.einsum('nm, mj->nj', self.matrix,\n",
    "                                 guess_v, optimize='optimal')\n",
    "            guess_vmv = np.einsum('ni,nj->ij', guess_v,\n",
    "                                  guess_mv, optimize='optimal')\n",
    "            trial_lambda, trial_transformation = np.linalg.eigh(guess_vmv)\n",
    "\n",
    "            # 1. Sorts eigenvalues in ascending order.\n",
    "            # sorted_index = list(reversed(trial_lambda.argsort()[::-1]))\n",
    "            # trial_lambda = trial_lambda[sorted_index]\n",
    "            # trial_transformation = trial_transformation[:, sorted_index]\n",
    "\n",
    "            if len(trial_lambda) > n_lowest:\n",
    "                trial_lambda = trial_lambda[:n_lowest]\n",
    "                trial_transformation = trial_transformation[:, :n_lowest]\n",
    "\n",
    "            # 2. Estimates errors based on diagonalization in the smaller space.\n",
    "            # Guess eigenvectors in the original space.\n",
    "            trial_v = np.dot(guess_v, trial_transformation)\n",
    "            # Guess Ax in the original space.\n",
    "            trial_mv = np.einsum('nm, mj->nj', self.matrix,\n",
    "                                 trial_v, optimize='optimal')\n",
    "            # Residual vectors in the original space.\n",
    "            trial_error = trial_mv - trial_v * trial_lambda\n",
    "\n",
    "            # 3. Gets new directions from error vectors.\n",
    "            max_error = 0  # Maximum error for the current iteration.\n",
    "            new_directions = []\n",
    "            full_dim = trial_v.shape[0]\n",
    "            for i in range(n_lowest):\n",
    "                current_error_v = trial_error[:, i]\n",
    "                if np.max(np.abs(current_error_v)) < self.eps:\n",
    "                    continue\n",
    "                max_error = max(max_error, np.linalg.norm(current_error_v))\n",
    "\n",
    "                new_direction = []\n",
    "                M = np.ones(full_dim)\n",
    "                for j in range(full_dim):\n",
    "                    diff = self.diagonal[j] - trial_lambda[i]\n",
    "                    if numpy.abs(diff) > self.eps:\n",
    "                        M[j] /= diff\n",
    "                    else:\n",
    "                        M[j] /= self.eps\n",
    "\n",
    "                numerator = M * current_error_v\n",
    "                denominator = M * trial_v[:, i]\n",
    "                # This line is fine.\n",
    "                new_direction = -current_error_v + \\\n",
    "                    (trial_v[:, i] * numpy.dot(trial_v[:, i],\n",
    "                     numerator) / numpy.dot(trial_v[:, i], denominator))\n",
    "                # new_direction *= M\n",
    "\n",
    "                # new_direction = M * current_error_v # This is the Davidson-Liu way.\n",
    "\n",
    "                # P = np.identity(full_dim) - np.outer(trial_v[:, i], trial_v[:, i])\n",
    "                # A_tilde = np.diagonal(self.matrix) - np.identity(full_dim) * trial_lambda[i]\n",
    "                # M_tilde = np.einsum('ij, jk, kl->il', P, A_tilde, P, optimize='optimal')\n",
    "                # new_direction, _ = scipy.sparse.linalg.cg(M_tilde, -current_error_v, atol = self.eps, maxiter = self.max_iterations) # This is the Jacobi-Davidson way.\n",
    "\n",
    "                new_directions.append(new_direction)\n",
    "\n",
    "            if new_directions:\n",
    "                # stack new_directions along the axis 0, then transpose, finally hstack.\n",
    "                guess_v = np.hstack([guess_v, np.stack(new_directions).T])\n",
    "\n",
    "            print(\n",
    "                f\"Eigenvalues for iteration {niter}: {trial_lambda}, error is {max_error}.\"\n",
    "            )\n",
    "\n",
    "            if max_error < self.eps:\n",
    "                success = True\n",
    "                break\n",
    "\n",
    "            # 4. Deals with new directions to make sure they're orthonormal.\n",
    "            ortho_num = guess_mv.shape[1]  # Already orthonormal\n",
    "            for i in range(ortho_num, guess_v.shape[1]):\n",
    "                vec_i = guess_v[:, i]\n",
    "                for j in range(i):\n",
    "                    vec_i -= guess_v[:, j] * np.dot(guess_v[:, j], vec_i)\n",
    "\n",
    "                # Makes sure the new vector is not too small.\n",
    "                if np.linalg.norm(vec_i) < self.eps:\n",
    "                    continue\n",
    "\n",
    "                guess_v[:, i] = vec_i / np.linalg.norm(vec_i)\n",
    "                ortho_num += 1\n",
    "\n",
    "            # 5. Limits the size of the subspace.\n",
    "            if guess_v.shape[1] > self.max_subspace:\n",
    "                print(\"Collapsing the subspace.\")\n",
    "                guess_v = trial_v\n",
    "                guess_mv = trial_mv\n",
    "\n",
    "            niter += 1\n",
    "\n",
    "        return trial_lambda, trial_v\n",
    "\n",
    "\n",
    "if (__name__ == '__main__'):\n",
    "    np.random.seed(100)\n",
    "    A = np.random.rand(500, 500)\n",
    "    A = A + A.T\n",
    "\n",
    "    davidson = Davidson(A)\n",
    "    trial_lambda, trial_v = davidson.kernal(n_lowest=2)\n",
    "    print(f\"Eigenvalues from Davidson: {trial_lambda}\")\n",
    "    evals, evecs = np.linalg.eigh(A)\n",
    "    print(f\"Eigenvalues from Numpy: {evals[:2]}\")\n"
   ]
  }
 ],
 "metadata": {
  "kernelspec": {
   "display_name": "Python 3 (ipykernel)",
   "language": "python",
   "name": "python3"
  },
  "language_info": {
   "codemirror_mode": {
    "name": "ipython",
    "version": 3
   },
   "file_extension": ".py",
   "mimetype": "text/x-python",
   "name": "python",
   "nbconvert_exporter": "python",
   "pygments_lexer": "ipython3",
   "version": "3.10.13"
  }
 },
 "nbformat": 4,
 "nbformat_minor": 5
}
